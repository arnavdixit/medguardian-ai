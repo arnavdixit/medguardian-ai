{
 "cells": [
  {
   "cell_type": "code",
   "execution_count": 44,
   "metadata": {},
   "outputs": [
    {
     "name": "stdout",
     "output_type": "stream",
     "text": [
      "Requirement already satisfied: uv in c:\\users\\stlp\\.conda\\envs\\reactor-feb-25\\lib\\site-packages (0.6.2)\n"
     ]
    }
   ],
   "source": [
    "!pip install uv\n",
    "!uv pip install --system -qU llama-index==0.11.6 llama-index-llms-openai llama-index-readers-file llama-index-embeddings-openai llama-index-llms-openai-like \"openinference-instrumentation-llama-index>=2\" arize-phoenix python-dotenv"
   ]
  },
  {
   "cell_type": "code",
   "execution_count": 45,
   "metadata": {},
   "outputs": [],
   "source": [
    "from os import environ\n",
    "from dotenv import load_dotenv\n",
    "\n",
    "load_dotenv()\n",
    "\n",
    "OPENAI_API_KEY = environ[\"OPENAI_API_KEY\"]"
   ]
  },
  {
   "cell_type": "code",
   "execution_count": 46,
   "metadata": {},
   "outputs": [],
   "source": [
    "# Import necessary modules from llama_index\n",
    "from llama_index.core import (\n",
    "    SimpleDirectoryReader,\n",
    "    VectorStoreIndex,\n",
    "    StorageContext,\n",
    "    load_index_from_storage,\n",
    ")\n",
    "from llama_index.core.tools import QueryEngineTool, ToolMetadata\n",
    "from llama_index.core.agent import ReActAgent\n",
    "from llama_index.llms.openai import OpenAI\n",
    "\n",
    "# Create an llm object to use for the QueryEngine and the ReActAgent\n",
    "# The OpenAI class is used to interact with the OpenAI API\n",
    "# The model parameter specifies which model to use, in this case, \"gpt-4\"\n",
    "llm = OpenAI(model=\"gpt-4\")"
   ]
  },
  {
   "cell_type": "code",
   "execution_count": 47,
   "metadata": {},
   "outputs": [
    {
     "name": "stderr",
     "output_type": "stream",
     "text": [
      "Existing running Phoenix instance detected! Shutting it down and starting a new instance...\n"
     ]
    },
    {
     "name": "stdout",
     "output_type": "stream",
     "text": [
      "🌍 To view the Phoenix app in your browser, visit http://localhost:6006/\n",
      "📖 For more information on how to use Phoenix, check out https://docs.arize.com/phoenix\n"
     ]
    }
   ],
   "source": [
    "import phoenix as px\n",
    "session = px.launch_app()"
   ]
  },
  {
   "cell_type": "code",
   "execution_count": 48,
   "metadata": {},
   "outputs": [
    {
     "name": "stderr",
     "output_type": "stream",
     "text": [
      "Overriding of current TracerProvider is not allowed\n",
      "Attempting to instrument while already instrumented\n"
     ]
    },
    {
     "name": "stdout",
     "output_type": "stream",
     "text": [
      "OpenTelemetry Tracing Details\n",
      "|  Phoenix Project: default\n",
      "|  Span Processor: SimpleSpanProcessor\n",
      "|  Collector Endpoint: localhost:4317\n",
      "|  Transport: gRPC\n",
      "|  Transport Headers: {'user-agent': '****'}\n",
      "|  \n",
      "|  Using a default SpanProcessor. `add_span_processor` will overwrite this default.\n",
      "|  \n",
      "|  `register` has set this TracerProvider as the global OpenTelemetry default.\n",
      "|  To disable this behavior, call `register` with `set_global_tracer_provider=False`.\n",
      "\n"
     ]
    }
   ],
   "source": [
    "# Import the LlamaIndexInstrumentor class from the openinference.instrumentation.llama_index module\n",
    "from openinference.instrumentation.llama_index import LlamaIndexInstrumentor\n",
    "\n",
    "# Import the register function from the phoenix.otel module\n",
    "from phoenix.otel import register\n",
    "\n",
    "# Register a tracer provider using the register function\n",
    "tracer_provider = register()\n",
    "\n",
    "# Instrument the LlamaIndex with the registered tracer provider\n",
    "LlamaIndexInstrumentor().instrument(tracer_provider=tracer_provider)"
   ]
  },
  {
   "cell_type": "code",
   "execution_count": 49,
   "metadata": {},
   "outputs": [],
   "source": [
    "try:\n",
    "    # Create a storage context from the default settings, specifying the directory to persist data\n",
    "    storage_context = StorageContext.from_defaults(\n",
    "        persist_dir=\"history.txt\"\n",
    "    )\n",
    "    # Load the index from the storage context\n",
    "    history = load_index_from_storage(storage_context)\n",
    "\n",
    "    # Set the flag to indicate that the index was successfully loaded\n",
    "    index_loaded = True\n",
    "except:\n",
    "    # If an error occurs, set the flag to indicate that the index was not loaded\n",
    "    index_loaded = False"
   ]
  },
  {
   "cell_type": "code",
   "execution_count": 50,
   "metadata": {},
   "outputs": [
    {
     "name": "stderr",
     "output_type": "stream",
     "text": [
      "Parsing nodes: 100%|██████████| 1/1 [00:00<00:00, 71.45it/s]\n",
      "Generating embeddings: 100%|██████████| 5/5 [00:00<00:00,  8.02it/s]\n"
     ]
    }
   ],
   "source": [
    "if not index_loaded:\n",
    "    # If the index is not loaded, load data from the specified file\n",
    "    history_docs = SimpleDirectoryReader(\n",
    "        input_files=[\"history.txt\"]\n",
    "    ).load_data()\n",
    "\n",
    "    # Build the index from the loaded documents, showing progress during the process\n",
    "    history_index = VectorStoreIndex.from_documents(history_docs, show_progress=True)\n",
    "    \n",
    "    # Persist the index to the specified directory\n",
    "    history_index.storage_context.persist(persist_dir=\"./\")"
   ]
  },
  {
   "cell_type": "code",
   "execution_count": 51,
   "metadata": {},
   "outputs": [],
   "source": [
    "# Convert the history_index to a query engine\n",
    "# The query engine will use the top 3 most similar documents for each query\n",
    "# The llm (language model) is used to process the queries and generate responses\n",
    "history_engine = history_index.as_query_engine(similarity_top_k=3, llm=llm)"
   ]
  },
  {
   "cell_type": "code",
   "execution_count": 52,
   "metadata": {},
   "outputs": [],
   "source": [
    "# Create a list of query engine tools\n",
    "query_engine_tools = [\n",
    "    # Create a QueryEngineTool object for the history engine\n",
    "    QueryEngineTool(\n",
    "        query_engine=history_engine,  # Use the history_engine defined earlier\n",
    "        metadata=ToolMetadata(\n",
    "            name=\"history\",  # Name of the tool\n",
    "            description=(\n",
    "                \"Provides comprehensive access to a patient's complete medical history, including detailed records of previous diagnoses, treatment plans, surgical interventions, medication regimens, allergies, immunizations, and other critical clinical information. \"\n",
    "                \"This tool is designed to assist healthcare providers, particularly in emergency settings, by delivering precise, plain text responses based on well-formulated queries. \"\n",
    "                \"When using this tool, please input a detailed question that clearly specifies the aspects of the medical history you require—such as cardiac events, medication changes, surgical history, or chronic disease management—\"\n",
    "                \" to ensure the most relevant and targeted information is retrieved.\"\n",
    "            ),  # Description of the tool\n",
    "        ),\n",
    "    )\n",
    "]"
   ]
  },
  {
   "cell_type": "code",
   "execution_count": 56,
   "metadata": {},
   "outputs": [],
   "source": [
    "# Create a ReActAgent from the provided tools\n",
    "# The ReActAgent will use the query_engine_tools defined earlier\n",
    "# The llm (language model) is used to process the queries and generate responses\n",
    "# verbose=True enables detailed logging of the agent's actions\n",
    "# max_turns=10 sets the maximum number of turns the agent can take in a single interaction\n",
    "agent = ReActAgent.from_tools(\n",
    "    query_engine_tools,\n",
    "    llm=llm,\n",
    "    verbose=True,\n",
    "    max_turns=10,\n",
    ")"
   ]
  },
  {
   "cell_type": "code",
   "execution_count": null,
   "metadata": {},
   "outputs": [
    {
     "name": "stdout",
     "output_type": "stream",
     "text": [
      "> Running step 63fa1956-909a-4e1d-acbb-6c14ad1f4fb8. Step input: Provide patient's details and summarize Jhonathon's medical history.\n",
      "\u001b[1;3;38;5;200mThought: The user is asking for a summary of a patient named Jhonathon's medical history. I need to use the 'history' tool to retrieve this information.\n",
      "Action: history\n",
      "Action Input: {'input': \"Summarize Jhonathon's medical history.\"}\n",
      "\u001b[0m\u001b[1;3;34mObservation: Johnathan A. Doe is a 58-year-old male with a significant medical history. He has been diagnosed with hypertension, type 2 diabetes mellitus, hyperlipidemia, coronary artery disease (CAD), gastroesophageal reflux disease (GERD), obstructive sleep apnea (OSA), chronic kidney disease (stage 2), benign prostatic hyperplasia (BPH), osteoarthritis, and a past episode of hyperthyroidism. He has undergone several surgeries, including appendectomy, coronary artery bypass grafting, cataract extraction with intraocular lens implantation, inguinal hernia repair, and minor dermatologic excision. His current medications include lisinopril, metformin, simvastatin, aspirin, metoprolol succinate, omeprazole, tamsulosin, ibuprofen, and a multivitamin. He has no known drug allergies but does have seasonal environmental allergies. His family history includes a father who died from a myocardial infarction and had hypertension, a mother with type 2 diabetes, osteoporosis, and a history of hyperthyroidism, a brother with hyperlipidemia and type 2 diabetes, and a sister with rheumatoid arthritis.\n",
      "\u001b[0m> Running step 9cc74064-550f-480e-b838-10cac7d36b44. Step input: None\n",
      "\u001b[1;3;38;5;200mThought: I can answer without using any more tools. I'll use the user's language to answer.\n",
      "Answer: Johnathan A. Doe is a 58-year-old male with a significant medical history. His diagnoses include hypertension, type 2 diabetes mellitus, hyperlipidemia, coronary artery disease, gastroesophageal reflux disease, obstructive sleep apnea, chronic kidney disease (stage 2), benign prostatic hyperplasia, osteoarthritis, and a past episode of hyperthyroidism. He has undergone surgeries such as appendectomy, coronary artery bypass grafting, cataract extraction with intraocular lens implantation, inguinal hernia repair, and minor dermatologic excision. His current medications include lisinopril, metformin, simvastatin, aspirin, metoprolol succinate, omeprazole, tamsulosin, ibuprofen, and a multivitamin. He has no known drug allergies but does have seasonal environmental allergies. His family history includes a father who died from a myocardial infarction and had hypertension, a mother with type 2 diabetes, osteoporosis, and a history of hyperthyroidism, a brother with hyperlipidemia and type 2 diabetes, and a sister with rheumatoid arthritis.\n",
      "\u001b[0mJohnathan A. Doe is a 58-year-old male with a significant medical history. His diagnoses include hypertension, type 2 diabetes mellitus, hyperlipidemia, coronary artery disease, gastroesophageal reflux disease, obstructive sleep apnea, chronic kidney disease (stage 2), benign prostatic hyperplasia, osteoarthritis, and a past episode of hyperthyroidism. He has undergone surgeries such as appendectomy, coronary artery bypass grafting, cataract extraction with intraocular lens implantation, inguinal hernia repair, and minor dermatologic excision. His current medications include lisinopril, metformin, simvastatin, aspirin, metoprolol succinate, omeprazole, tamsulosin, ibuprofen, and a multivitamin. He has no known drug allergies but does have seasonal environmental allergies. His family history includes a father who died from a myocardial infarction and had hypertension, a mother with type 2 diabetes, osteoporosis, and a history of hyperthyroidism, a brother with hyperlipidemia and type 2 diabetes, and a sister with rheumatoid arthritis.\n"
     ]
    }
   ],
   "source": [
    "# Define a function to handle the agent's responses\n",
    "def handle_agent_response(response):\n",
    "    # Print the agent's response\n",
    "    print(\"Agent:\", response)\n",
    "    # Check if the agent's response indicates that the conversation is complete\n",
    "    if agent.is_conversation_complete():\n",
    "        # If the conversation is complete, print a message\n",
    "        print(\"Conversation complete.\")\n",
    "    else:\n",
    "        # If the conversation is not complete, prompt the user for the next input\n",
    "        user_input = input(\"User: \")\n",
    "        # Continue the conversation with the user's input\n",
    "        agent.continue_chat(user_input, handle_agent_response)\n",
    "\n",
    "\n",
    "response = agent.chat(\"Provide patient's details and summarize Jhonathon's medical history.\")\n",
    "print(str(response))"
   ]
  },
  {
   "cell_type": "code",
   "execution_count": 37,
   "metadata": {},
   "outputs": [
    {
     "name": "stdout",
     "output_type": "stream",
     "text": [
      "> Running step 567bd2f5-a3df-401f-bff8-9e195aab0213. Step input: Any issues with urination?\n",
      "\u001b[1;3;38;5;200mThought: The user is asking about the patient's urinary history. I need to use the history tool to help me answer the question.\n",
      "Action: history\n",
      "Action Input: {'input': 'Does the patient have any history of urinary problems?'}\n",
      "\u001b[0m\u001b[1;3;34mObservation: Yes, the patient has a history of Benign Prostatic Hyperplasia (BPH), which is managed with Tamsulosin 0.4 mg daily. He also reports increased frequency of urination, particularly nocturia.\n",
      "\u001b[0m> Running step a6715d31-cd08-402b-b257-fa1f36105b97. Step input: None\n",
      "\u001b[1;3;38;5;200mThought: I can answer without using any more tools. I'll use the user's language to answer.\n",
      "Answer: Yes, the patient has a history of Benign Prostatic Hyperplasia (BPH), which is managed with Tamsulosin 0.4 mg daily. He also reports increased frequency of urination, particularly at night (nocturia).\n",
      "\u001b[0mYes, the patient has a history of Benign Prostatic Hyperplasia (BPH), which is managed with Tamsulosin 0.4 mg daily. He also reports increased frequency of urination, particularly at night (nocturia).\n"
     ]
    }
   ],
   "source": [
    "response = agent.chat(\"Any issues with urination?\")\n",
    "print(str(response))"
   ]
  },
  {
   "cell_type": "code",
   "execution_count": 42,
   "metadata": {},
   "outputs": [
    {
     "name": "stdout",
     "output_type": "stream",
     "text": [
      "> Running step 447f74c2-de9c-4420-9614-ae6b8ce1d24f. Step input: Any issues with urination?\n",
      "\u001b[1;3;38;5;200mThought: The user is asking about issues with urination. However, I don't have any personal experiences or health conditions as I am an AI. If the user is asking about a specific patient's urination issues, I would need more information to provide a relevant response.\n",
      "Answer: As an AI, I don't have personal health experiences. If you're asking about a specific patient's urination issues, could you please provide more details?\n",
      "\u001b[0mAs an AI, I don't have personal health experiences. If you're asking about a specific patient's urination issues, could you please provide more details?\n"
     ]
    }
   ],
   "source": [
    "response = agent.chat(\"Any issues with urination?\")\n",
    "print(str(response))"
   ]
  },
  {
   "cell_type": "code",
   "execution_count": 38,
   "metadata": {},
   "outputs": [
    {
     "name": "stdout",
     "output_type": "stream",
     "text": [
      "> Running step 67165cf6-d249-4d24-879f-8abd7d812870. Step input: When was this diagnosed and what was the treatment?\n",
      "\u001b[1;3;38;5;200mThought: I need to use the history tool to find out when the patient was diagnosed with Benign Prostatic Hyperplasia (BPH) and what the treatment was.\n",
      "Action: history\n",
      "Action Input: {'input': 'When was the patient diagnosed with Benign Prostatic Hyperplasia and what was the treatment?'}\n",
      "\u001b[0m\u001b[1;3;34mObservation: The patient was diagnosed with Benign Prostatic Hyperplasia (BPH) in 2015. The condition is being managed with Tamsulosin 0.4 mg, taken once daily.\n",
      "\u001b[0m> Running step 8bd536d2-ab6f-42eb-b76b-28ec1b5cd174. Step input: None\n",
      "\u001b[1;3;38;5;200mThought: I can answer without using any more tools. I'll use the user's language to answer.\n",
      "Answer: The patient was diagnosed with Benign Prostatic Hyperplasia (BPH) in 2015. The condition is being managed with Tamsulosin 0.4 mg, taken once daily.\n",
      "\u001b[0mThe patient was diagnosed with Benign Prostatic Hyperplasia (BPH) in 2015. The condition is being managed with Tamsulosin 0.4 mg, taken once daily.\n"
     ]
    }
   ],
   "source": [
    "response = agent.chat(\"When was this diagnosed and what was the treatment?\")\n",
    "print(str(response))"
   ]
  },
  {
   "cell_type": "code",
   "execution_count": 39,
   "metadata": {},
   "outputs": [
    {
     "name": "stdout",
     "output_type": "stream",
     "text": [
      "> Running step 52b77b57-6712-4075-9984-f446ea2c814f. Step input: The patient is here qith chest pain and suffocation, what do i need to know?\n",
      "\u001b[1;3;38;5;200mThought: The current language of the user is English. I need to use the history tool to help me answer the question.\n",
      "Action: history\n",
      "Action Input: {'input': \"What is the patient's history of chest pain and suffocation?\"}\n",
      "\u001b[0m\u001b[1;3;34mObservation: The patient, Johnathan A. Doe, has been experiencing intermittent, pressure-like chest pain during exertion. This pain is described as a squeezing sensation that radiates to his left arm and occasionally to his jaw. These episodes typically last between 5 to 10 minutes and usually resolve with rest. Accompanying these episodes are shortness of breath, mild dizziness, and sporadic palpitations. The patient has been dealing with these symptoms for about two weeks. He also reports a gradual increase in fatigue over the past several months and a slight, unintentional weight loss. There is no history of recent trauma or significant changes in his physical activity level.\n",
      "\u001b[0m> Running step 6a6428ce-967b-4f9a-8591-9d6b40add946. Step input: None\n",
      "\u001b[1;3;38;5;200mThought: I can answer without using any more tools. I'll use the user's language to answer.\n",
      "Answer: The patient, Johnathan A. Doe, has been experiencing intermittent chest pain during exertion, described as a pressure-like, squeezing sensation that radiates to his left arm and occasionally to his jaw. These episodes typically last between 5 to 10 minutes and usually resolve with rest. Accompanying these episodes are shortness of breath, mild dizziness, and sporadic palpitations. These symptoms have been present for about two weeks. He also reports a gradual increase in fatigue over the past several months and a slight, unintentional weight loss. There is no history of recent trauma or significant changes in his physical activity level. Given his history of coronary artery disease, these symptoms could be indicative of unstable angina or a possible myocardial infarction. Immediate medical attention is required.\n",
      "\u001b[0mThe patient, Johnathan A. Doe, has been experiencing intermittent chest pain during exertion, described as a pressure-like, squeezing sensation that radiates to his left arm and occasionally to his jaw. These episodes typically last between 5 to 10 minutes and usually resolve with rest. Accompanying these episodes are shortness of breath, mild dizziness, and sporadic palpitations. These symptoms have been present for about two weeks. He also reports a gradual increase in fatigue over the past several months and a slight, unintentional weight loss. There is no history of recent trauma or significant changes in his physical activity level. Given his history of coronary artery disease, these symptoms could be indicative of unstable angina or a possible myocardial infarction. Immediate medical attention is required.\n"
     ]
    }
   ],
   "source": [
    "response = agent.chat(\"The patient is here qith chest pain and suffocation, what do i need to know?\")\n",
    "print(str(response))"
   ]
  },
  {
   "cell_type": "code",
   "execution_count": null,
   "metadata": {},
   "outputs": [],
   "source": []
  }
 ],
 "metadata": {
  "kernelspec": {
   "display_name": "reactor-feb-25",
   "language": "python",
   "name": "python3"
  },
  "language_info": {
   "codemirror_mode": {
    "name": "ipython",
    "version": 3
   },
   "file_extension": ".py",
   "mimetype": "text/x-python",
   "name": "python",
   "nbconvert_exporter": "python",
   "pygments_lexer": "ipython3",
   "version": "3.11.11"
  }
 },
 "nbformat": 4,
 "nbformat_minor": 2
}
